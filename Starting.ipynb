{
 "cells": [
  {
   "cell_type": "code",
   "execution_count": 2,
   "id": "85ca9301-c36a-4f11-9862-9f17a53b7c34",
   "metadata": {},
   "outputs": [],
   "source": [
    "import flask"
   ]
  },
  {
   "cell_type": "code",
   "execution_count": 5,
   "id": "5071329d-3371-4ca1-88fd-847d168fe1f5",
   "metadata": {},
   "outputs": [],
   "source": [
    "import langchain"
   ]
  },
  {
   "cell_type": "code",
   "execution_count": 7,
   "id": "665d04b0-c04b-401d-af75-f36807634d3a",
   "metadata": {},
   "outputs": [
    {
     "name": "stdout",
     "output_type": "stream",
     "text": [
      "Hello\n"
     ]
    }
   ],
   "source": [
    "print(\"Hello\")"
   ]
  },
  {
   "cell_type": "code",
   "execution_count": 8,
   "id": "8faee315-cec5-4077-b7d4-4ed76a0899d2",
   "metadata": {},
   "outputs": [],
   "source": [
    "import requests"
   ]
  },
  {
   "cell_type": "code",
   "execution_count": null,
   "id": "6ea2c582-f707-4f65-9678-3f070d7d7710",
   "metadata": {},
   "outputs": [],
   "source": [
    "import requests\n",
    "\n",
    "url = 'http://localhost:11434/api/generate/'\n",
    "headers = {'Content-type': 'application/json'}\n",
    "data = '{ \"model\": \"llama3\", \"prompt\": \"Was besteht aus Wasser?\" }'\n",
    "\n",
    "response = requests.post(url, headers=headers, data=data)\n",
    "\n",
    "print(response.status_code)\n"
   ]
  },
  {
   "cell_type": "code",
   "execution_count": 3,
   "id": "92cbacad-a406-432f-98c2-4a753c8eca46",
   "metadata": {},
   "outputs": [
    {
     "name": "stdout",
     "output_type": "stream",
     "text": [
      "Making request\n",
      "200\n",
      "{\"model\":\"llama3\",\"created_at\":\"2024-06-05T20:12:17.0307709Z\",\"response\":\"Ein\",\"done\":false}\n",
      "{\"model\":\"llama3\",\"created_at\":\"2024-06-05T20:12:17.107782529Z\",\"response\":\" interess\",\"done\":false}\n",
      "{\"model\":\"llama3\",\"created_at\":\"2024-06-05T20:12:17.182760571Z\",\"response\":\"antes\",\"done\":false}\n",
      "{\"model\":\"llama3\",\"created_at\":\"2024-06-05T20:12:17.260944891Z\",\"response\":\" Frage\",\"done\":false}\n",
      "{\"model\":\"llama3\",\"created_at\":\"2024-06-05T20:12:17.34185819Z\",\"response\":\"!\\n\\n\",\"done\":false}\n",
      "{\"model\":\"llama3\",\"created_at\":\"2024-06-05T20:12:17.421562819Z\",\"response\":\"In\",\"done\":false}\n",
      "{\"model\":\"llama3\",\"created_at\":\"2024-06-05T20:12:17.500261891Z\",\"response\":\" der\",\"done\":false}\n",
      "{\"model\":\"llama3\",\"created_at\":\"2024-06-05T20:12:17.579765904Z\",\"response\":\" chem\",\"done\":false}\n",
      "{\"model\":\"llama3\",\"created_at\":\"2024-06-05T20:12:17.660806165Z\",\"response\":\"ischen\",\"done\":false}\n",
      "{\"model\":\"llama3\",\"created_at\":\"2024-06-05T20:12:17.742375151Z\",\"response\":\" Ver\",\"done\":false}\n",
      "{\"model\":\"llama3\",\"created_at\":\"2024-06-05T20:12:17.822521673Z\",\"response\":\"bindung\",\"done\":false}\n",
      "{\"model\":\"llama3\",\"created_at\":\"2024-06-05T20:12:17.906755103Z\",\"response\":\" können\",\"done\":false}\n",
      "{\"model\":\"llama3\",\"created_at\":\"2024-06-05T20:12:17.987680424Z\",\"response\":\" wir\",\"done\":false}\n",
      "{\"model\":\"llama3\",\"created_at\":\"2024-06-05T20:12:18.067249218Z\",\"response\":\" Wasser\",\"done\":false}\n",
      "{\"model\":\"llama3\",\"created_at\":\"2024-06-05T20:12:18.145530213Z\",\"response\":\" (\",\"done\":false}\n",
      "{\"model\":\"llama3\",\"created_at\":\"2024-06-05T20:12:18.225714951Z\",\"response\":\"H\",\"done\":false}\n",
      "{\"model\":\"llama3\",\"created_at\":\"2024-06-05T20:12:18.305685284Z\",\"response\":\"2\",\"done\":false}\n",
      "{\"model\":\"llama3\",\"created_at\":\"2024-06-05T20:12:18.387840427Z\",\"response\":\"O\",\"done\":false}\n",
      "{\"model\":\"llama3\",\"created_at\":\"2024-06-05T20:12:18.467909212Z\",\"response\":\")\",\"done\":false}\n",
      "{\"model\":\"llama3\",\"created_at\":\"2024-06-05T20:12:18.545248058Z\",\"response\":\" in\",\"done\":false}\n",
      "{\"model\":\"llama3\",\"created_at\":\"2024-06-05T20:12:18.626471439Z\",\"response\":\" fol\",\"done\":false}\n",
      "{\"model\":\"llama3\",\"created_at\":\"2024-06-05T20:12:18.705260756Z\",\"response\":\"gende\",\"done\":false}\n",
      "{\"model\":\"llama3\",\"created_at\":\"2024-06-05T20:12:18.785534966Z\",\"response\":\" Best\",\"done\":false}\n",
      "{\"model\":\"llama3\",\"created_at\":\"2024-06-05T20:12:18.864843834Z\",\"response\":\"and\",\"done\":false}\n",
      "{\"model\":\"llama3\",\"created_at\":\"2024-06-05T20:12:18.940465538Z\",\"response\":\"te\",\"done\":false}\n",
      "{\"model\":\"llama3\",\"created_at\":\"2024-06-05T20:12:19.016454833Z\",\"response\":\"ile\",\"done\":false}\n",
      "{\"model\":\"llama3\",\"created_at\":\"2024-06-05T20:12:19.097436569Z\",\"response\":\" auf\",\"done\":false}\n",
      "{\"model\":\"llama3\",\"created_at\":\"2024-06-05T20:12:19.176471321Z\",\"response\":\"sp\",\"done\":false}\n",
      "{\"model\":\"llama3\",\"created_at\":\"2024-06-05T20:12:19.256777552Z\",\"response\":\"alten\",\"done\":false}\n",
      "{\"model\":\"llama3\",\"created_at\":\"2024-06-05T20:12:19.340336976Z\",\"response\":\":\\n\\n\",\"done\":false}\n",
      "{\"model\":\"llama3\",\"created_at\":\"2024-06-05T20:12:19.423725037Z\",\"response\":\"*\",\"done\":false}\n",
      "{\"model\":\"llama3\",\"created_at\":\"2024-06-05T20:12:19.506932474Z\",\"response\":\" \",\"done\":false}\n",
      "{\"model\":\"llama3\",\"created_at\":\"2024-06-05T20:12:19.586726663Z\",\"response\":\"89\",\"done\":false}\n",
      "{\"model\":\"llama3\",\"created_at\":\"2024-06-05T20:12:19.663665995Z\",\"response\":\",\",\"done\":false}\n",
      "{\"model\":\"llama3\",\"created_at\":\"2024-06-05T20:12:19.74369167Z\",\"response\":\"9\",\"done\":false}\n",
      "{\"model\":\"llama3\",\"created_at\":\"2024-06-05T20:12:19.822446717Z\",\"response\":\"%\",\"done\":false}\n",
      "{\"model\":\"llama3\",\"created_at\":\"2024-06-05T20:12:19.903015164Z\",\"response\":\" S\",\"done\":false}\n",
      "{\"model\":\"llama3\",\"created_at\":\"2024-06-05T20:12:19.983484388Z\",\"response\":\"auer\",\"done\":false}\n",
      "{\"model\":\"llama3\",\"created_at\":\"2024-06-05T20:12:20.057732351Z\",\"response\":\"stoff\",\"done\":false}\n",
      "{\"model\":\"llama3\",\"created_at\":\"2024-06-05T20:12:20.136262782Z\",\"response\":\" (\",\"done\":false}\n",
      "{\"model\":\"llama3\",\"created_at\":\"2024-06-05T20:12:20.213314339Z\",\"response\":\"O\",\"done\":false}\n",
      "{\"model\":\"llama3\",\"created_at\":\"2024-06-05T20:12:20.291558694Z\",\"response\":\"2\",\"done\":false}\n",
      "{\"model\":\"llama3\",\"created_at\":\"2024-06-05T20:12:20.37166638Z\",\"response\":\")\\n\",\"done\":false}\n",
      "{\"model\":\"llama3\",\"created_at\":\"2024-06-05T20:12:20.450588062Z\",\"response\":\"*\",\"done\":false}\n",
      "{\"model\":\"llama3\",\"created_at\":\"2024-06-05T20:12:20.529435088Z\",\"response\":\" \",\"done\":false}\n",
      "{\"model\":\"llama3\",\"created_at\":\"2024-06-05T20:12:20.610449604Z\",\"response\":\"10\",\"done\":false}\n",
      "{\"model\":\"llama3\",\"created_at\":\"2024-06-05T20:12:20.687994202Z\",\"response\":\",\",\"done\":false}\n",
      "{\"model\":\"llama3\",\"created_at\":\"2024-06-05T20:12:20.765461419Z\",\"response\":\"1\",\"done\":false}\n",
      "{\"model\":\"llama3\",\"created_at\":\"2024-06-05T20:12:20.845467503Z\",\"response\":\"%\",\"done\":false}\n",
      "{\"model\":\"llama3\",\"created_at\":\"2024-06-05T20:12:20.923720339Z\",\"response\":\" Stick\",\"done\":false}\n",
      "{\"model\":\"llama3\",\"created_at\":\"2024-06-05T20:12:21.004285636Z\",\"response\":\"stoff\",\"done\":false}\n",
      "{\"model\":\"llama3\",\"created_at\":\"2024-06-05T20:12:21.084832522Z\",\"response\":\" (\",\"done\":false}\n",
      "{\"model\":\"llama3\",\"created_at\":\"2024-06-05T20:12:21.162670856Z\",\"response\":\"N\",\"done\":false}\n",
      "{\"model\":\"llama3\",\"created_at\":\"2024-06-05T20:12:21.239221182Z\",\"response\":\"2\",\"done\":false}\n",
      "{\"model\":\"llama3\",\"created_at\":\"2024-06-05T20:12:21.318271645Z\",\"response\":\")\\n\\n\",\"done\":false}\n",
      "{\"model\":\"llama3\",\"created_at\":\"2024-06-05T20:12:21.398056323Z\",\"response\":\"Der\",\"done\":false}\n",
      "{\"model\":\"llama3\",\"created_at\":\"2024-06-05T20:12:21.479730807Z\",\"response\":\" Rest\",\"done\":false}\n",
      "{\"model\":\"llama3\",\"created_at\":\"2024-06-05T20:12:21.561096831Z\",\"response\":\" besteht\",\"done\":false}\n",
      "{\"model\":\"llama3\",\"created_at\":\"2024-06-05T20:12:21.642270102Z\",\"response\":\" aus\",\"done\":false}\n",
      "{\"model\":\"llama3\",\"created_at\":\"2024-06-05T20:12:21.721598022Z\",\"response\":\" Sp\",\"done\":false}\n",
      "{\"model\":\"llama3\",\"created_at\":\"2024-06-05T20:12:21.800212613Z\",\"response\":\"uren\",\"done\":false}\n",
      "{\"model\":\"llama3\",\"created_at\":\"2024-06-05T20:12:21.881375165Z\",\"response\":\" von\",\"done\":false}\n",
      "{\"model\":\"llama3\",\"created_at\":\"2024-06-05T20:12:21.963355413Z\",\"response\":\" anderen\",\"done\":false}\n",
      "{\"model\":\"llama3\",\"created_at\":\"2024-06-05T20:12:22.041671557Z\",\"response\":\" Element\",\"done\":false}\n",
      "{\"model\":\"llama3\",\"created_at\":\"2024-06-05T20:12:22.116123385Z\",\"response\":\"en\",\"done\":false}\n",
      "{\"model\":\"llama3\",\"created_at\":\"2024-06-05T20:12:22.194235158Z\",\"response\":\" wie\",\"done\":false}\n",
      "{\"model\":\"llama3\",\"created_at\":\"2024-06-05T20:12:22.273448444Z\",\"response\":\" K\",\"done\":false}\n",
      "{\"model\":\"llama3\",\"created_at\":\"2024-06-05T20:12:22.354160344Z\",\"response\":\"alk\",\"done\":false}\n",
      "{\"model\":\"llama3\",\"created_at\":\"2024-06-05T20:12:22.434515968Z\",\"response\":\" (\",\"done\":false}\n",
      "{\"model\":\"llama3\",\"created_at\":\"2024-06-05T20:12:22.515388501Z\",\"response\":\"Ca\",\"done\":false}\n",
      "{\"model\":\"llama3\",\"created_at\":\"2024-06-05T20:12:22.595821845Z\",\"response\":\"),\",\"done\":false}\n",
      "{\"model\":\"llama3\",\"created_at\":\"2024-06-05T20:12:22.676241619Z\",\"response\":\" Magn\",\"done\":false}\n",
      "{\"model\":\"llama3\",\"created_at\":\"2024-06-05T20:12:22.757806608Z\",\"response\":\"esium\",\"done\":false}\n",
      "{\"model\":\"llama3\",\"created_at\":\"2024-06-05T20:12:22.836123876Z\",\"response\":\" (\",\"done\":false}\n",
      "{\"model\":\"llama3\",\"created_at\":\"2024-06-05T20:12:22.915529766Z\",\"response\":\"M\",\"done\":false}\n",
      "{\"model\":\"llama3\",\"created_at\":\"2024-06-05T20:12:22.997677147Z\",\"response\":\"g\",\"done\":false}\n",
      "{\"model\":\"llama3\",\"created_at\":\"2024-06-05T20:12:23.079848311Z\",\"response\":\"),\",\"done\":false}\n",
      "{\"model\":\"llama3\",\"created_at\":\"2024-06-05T20:12:23.162032163Z\",\"response\":\" Kal\",\"done\":false}\n",
      "{\"model\":\"llama3\",\"created_at\":\"2024-06-05T20:12:23.239120431Z\",\"response\":\"ium\",\"done\":false}\n",
      "{\"model\":\"llama3\",\"created_at\":\"2024-06-05T20:12:23.315996623Z\",\"response\":\" (\",\"done\":false}\n",
      "{\"model\":\"llama3\",\"created_at\":\"2024-06-05T20:12:23.399075697Z\",\"response\":\"K\",\"done\":false}\n",
      "{\"model\":\"llama3\",\"created_at\":\"2024-06-05T20:12:23.481785032Z\",\"response\":\"),\",\"done\":false}\n",
      "{\"model\":\"llama3\",\"created_at\":\"2024-06-05T20:12:23.555527126Z\",\"response\":\" N\",\"done\":false}\n",
      "{\"model\":\"llama3\",\"created_at\":\"2024-06-05T20:12:23.637860245Z\",\"response\":\"atri\",\"done\":false}\n",
      "{\"model\":\"llama3\",\"created_at\":\"2024-06-05T20:12:23.717777675Z\",\"response\":\"um\",\"done\":false}\n",
      "{\"model\":\"llama3\",\"created_at\":\"2024-06-05T20:12:23.799811535Z\",\"response\":\" (\",\"done\":false}\n",
      "{\"model\":\"llama3\",\"created_at\":\"2024-06-05T20:12:23.882025399Z\",\"response\":\"Na\",\"done\":false}\n",
      "{\"model\":\"llama3\",\"created_at\":\"2024-06-05T20:12:23.96494502Z\",\"response\":\")\",\"done\":false}\n",
      "{\"model\":\"llama3\",\"created_at\":\"2024-06-05T20:12:24.046404356Z\",\"response\":\" und\",\"done\":false}\n",
      "{\"model\":\"llama3\",\"created_at\":\"2024-06-05T20:12:24.12458509Z\",\"response\":\" anderen\",\"done\":false}\n",
      "{\"model\":\"llama3\",\"created_at\":\"2024-06-05T20:12:24.205698398Z\",\"response\":\" I\",\"done\":false}\n",
      "{\"model\":\"llama3\",\"created_at\":\"2024-06-05T20:12:24.282979801Z\",\"response\":\"onen\",\"done\":false}\n",
      "{\"model\":\"llama3\",\"created_at\":\"2024-06-05T20:12:24.366993145Z\",\"response\":\".\",\"done\":false}\n",
      "{\"model\":\"llama3\",\"created_at\":\"2024-06-05T20:12:24.453059478Z\",\"response\":\" Diese\",\"done\":false}\n",
      "{\"model\":\"llama3\",\"created_at\":\"2024-06-05T20:12:24.534861792Z\",\"response\":\" Sp\",\"done\":false}\n",
      "{\"model\":\"llama3\",\"created_at\":\"2024-06-05T20:12:24.618287335Z\",\"response\":\"uren\",\"done\":false}\n",
      "{\"model\":\"llama3\",\"created_at\":\"2024-06-05T20:12:24.703009256Z\",\"response\":\" sind\",\"done\":false}\n",
      "{\"model\":\"llama3\",\"created_at\":\"2024-06-05T20:12:24.786117981Z\",\"response\":\" jedoch\",\"done\":false}\n",
      "{\"model\":\"llama3\",\"created_at\":\"2024-06-05T20:12:24.870986134Z\",\"response\":\" sehr\",\"done\":false}\n",
      "{\"model\":\"llama3\",\"created_at\":\"2024-06-05T20:12:24.950574899Z\",\"response\":\" g\",\"done\":false}\n",
      "{\"model\":\"llama3\",\"created_at\":\"2024-06-05T20:12:25.029650754Z\",\"response\":\"ering\",\"done\":false}\n",
      "{\"model\":\"llama3\",\"created_at\":\"2024-06-05T20:12:25.107312174Z\",\"response\":\" und\",\"done\":false}\n",
      "{\"model\":\"llama3\",\"created_at\":\"2024-06-05T20:12:25.188437114Z\",\"response\":\" machen\",\"done\":false}\n",
      "{\"model\":\"llama3\",\"created_at\":\"2024-06-05T20:12:25.269002509Z\",\"response\":\" nur\",\"done\":false}\n",
      "{\"model\":\"llama3\",\"created_at\":\"2024-06-05T20:12:25.350823525Z\",\"response\":\" einen\",\"done\":false}\n",
      "{\"model\":\"llama3\",\"created_at\":\"2024-06-05T20:12:25.429982968Z\",\"response\":\" kleinen\",\"done\":false}\n",
      "{\"model\":\"llama3\",\"created_at\":\"2024-06-05T20:12:25.505340979Z\",\"response\":\" Ant\",\"done\":false}\n",
      "{\"model\":\"llama3\",\"created_at\":\"2024-06-05T20:12:25.585466176Z\",\"response\":\"eil\",\"done\":false}\n",
      "{\"model\":\"llama3\",\"created_at\":\"2024-06-05T20:12:25.661254815Z\",\"response\":\" des\",\"done\":false}\n",
      "{\"model\":\"llama3\",\"created_at\":\"2024-06-05T20:12:25.740953882Z\",\"response\":\" Wass\",\"done\":false}\n",
      "{\"model\":\"llama3\",\"created_at\":\"2024-06-05T20:12:25.822353596Z\",\"response\":\"ers\",\"done\":false}\n",
      "{\"model\":\"llama3\",\"created_at\":\"2024-06-05T20:12:25.900231497Z\",\"response\":\" aus\",\"done\":false}\n",
      "{\"model\":\"llama3\",\"created_at\":\"2024-06-05T20:12:25.979462807Z\",\"response\":\".\\n\\n\",\"done\":false}\n",
      "{\"model\":\"llama3\",\"created_at\":\"2024-06-05T20:12:26.059132333Z\",\"response\":\"In\",\"done\":false}\n",
      "{\"model\":\"llama3\",\"created_at\":\"2024-06-05T20:12:26.141433355Z\",\"response\":\"sg\",\"done\":false}\n",
      "{\"model\":\"llama3\",\"created_at\":\"2024-06-05T20:12:26.21899027Z\",\"response\":\"es\",\"done\":false}\n",
      "{\"model\":\"llama3\",\"created_at\":\"2024-06-05T20:12:26.299035305Z\",\"response\":\"amt\",\"done\":false}\n",
      "{\"model\":\"llama3\",\"created_at\":\"2024-06-05T20:12:26.378008285Z\",\"response\":\" ist\",\"done\":false}\n",
      "{\"model\":\"llama3\",\"created_at\":\"2024-06-05T20:12:26.454628002Z\",\"response\":\" Wasser\",\"done\":false}\n",
      "{\"model\":\"llama3\",\"created_at\":\"2024-06-05T20:12:26.536622199Z\",\"response\":\" ein\",\"done\":false}\n",
      "{\"model\":\"llama3\",\"created_at\":\"2024-06-05T20:12:26.617241011Z\",\"response\":\" extrem\",\"done\":false}\n",
      "{\"model\":\"llama3\",\"created_at\":\"2024-06-05T20:12:26.696645716Z\",\"response\":\" einf\",\"done\":false}\n",
      "{\"model\":\"llama3\",\"created_at\":\"2024-06-05T20:12:26.776265139Z\",\"response\":\"aches\",\"done\":false}\n",
      "{\"model\":\"llama3\",\"created_at\":\"2024-06-05T20:12:26.858158765Z\",\"response\":\" M\",\"done\":false}\n",
      "{\"model\":\"llama3\",\"created_at\":\"2024-06-05T20:12:26.937090082Z\",\"response\":\"ole\",\"done\":false}\n",
      "{\"model\":\"llama3\",\"created_at\":\"2024-06-05T20:12:27.019042275Z\",\"response\":\"k\",\"done\":false}\n",
      "{\"model\":\"llama3\",\"created_at\":\"2024-06-05T20:12:27.096347499Z\",\"response\":\"ül\",\"done\":false}\n",
      "{\"model\":\"llama3\",\"created_at\":\"2024-06-05T20:12:27.178252536Z\",\"response\":\",\",\"done\":false}\n",
      "{\"model\":\"llama3\",\"created_at\":\"2024-06-05T20:12:27.257751369Z\",\"response\":\" das\",\"done\":false}\n",
      "{\"model\":\"llama3\",\"created_at\":\"2024-06-05T20:12:27.335501989Z\",\"response\":\" fast\",\"done\":false}\n",
      "{\"model\":\"llama3\",\"created_at\":\"2024-06-05T20:12:27.415687996Z\",\"response\":\" auss\",\"done\":false}\n",
      "{\"model\":\"llama3\",\"created_at\":\"2024-06-05T20:12:27.488951348Z\",\"response\":\"ch\",\"done\":false}\n",
      "{\"model\":\"llama3\",\"created_at\":\"2024-06-05T20:12:27.570088165Z\",\"response\":\"ließlich\",\"done\":false}\n",
      "{\"model\":\"llama3\",\"created_at\":\"2024-06-05T20:12:27.653003317Z\",\"response\":\" aus\",\"done\":false}\n",
      "{\"model\":\"llama3\",\"created_at\":\"2024-06-05T20:12:27.729728993Z\",\"response\":\" S\",\"done\":false}\n",
      "{\"model\":\"llama3\",\"created_at\":\"2024-06-05T20:12:27.806160534Z\",\"response\":\"auer\",\"done\":false}\n",
      "{\"model\":\"llama3\",\"created_at\":\"2024-06-05T20:12:27.889834778Z\",\"response\":\"stoff\",\"done\":false}\n",
      "{\"model\":\"llama3\",\"created_at\":\"2024-06-05T20:12:27.97080421Z\",\"response\":\"-\",\"done\":false}\n",
      "{\"model\":\"llama3\",\"created_at\":\"2024-06-05T20:12:28.053514974Z\",\"response\":\" und\",\"done\":false}\n",
      "{\"model\":\"llama3\",\"created_at\":\"2024-06-05T20:12:28.126551878Z\",\"response\":\" Stick\",\"done\":false}\n",
      "{\"model\":\"llama3\",\"created_at\":\"2024-06-05T20:12:28.209017972Z\",\"response\":\"stoff\",\"done\":false}\n",
      "{\"model\":\"llama3\",\"created_at\":\"2024-06-05T20:12:28.290989198Z\",\"response\":\"-\",\"done\":false}\n",
      "{\"model\":\"llama3\",\"created_at\":\"2024-06-05T20:12:28.372959471Z\",\"response\":\"At\",\"done\":false}\n",
      "{\"model\":\"llama3\",\"created_at\":\"2024-06-05T20:12:28.453590525Z\",\"response\":\"omen\",\"done\":false}\n",
      "{\"model\":\"llama3\",\"created_at\":\"2024-06-05T20:12:28.535641656Z\",\"response\":\" besteht\",\"done\":false}\n",
      "{\"model\":\"llama3\",\"created_at\":\"2024-06-05T20:12:28.618396575Z\",\"response\":\"!\",\"done\":false}\n",
      "{\"model\":\"llama3\",\"created_at\":\"2024-06-05T20:12:28.698504887Z\",\"response\":\"\",\"done\":true,\"context\":[128006,882,128007,198,198,27125,99521,9608,74894,30,128009,128006,78191,128007,198,198,54850,40453,15844,68332,4999,198,644,2761,8590,18211,6383,91326,20649,16502,74894,320,39,17,46,8,304,9630,59873,7252,438,668,458,7367,2203,60593,1473,9,220,4578,11,24,4,328,28196,81056,320,46,17,8,198,9,220,605,11,16,4,47561,81056,320,45,17,340,198,22960,9240,99521,9608,3165,21904,6675,39784,8711,268,13672,735,1727,320,23389,705,20918,41930,320,44,70,705,27930,2411,320,42,705,452,2416,372,320,16589,8,2073,39784,358,43028,13,55168,3165,21904,12868,61737,26574,342,4776,2073,38996,12500,15826,81478,6898,59891,951,75619,388,9608,627,198,644,2034,288,36325,6127,74894,4466,6000,32387,14576,386,1286,74,36624,11,6754,5043,25102,331,84190,9608,328,28196,81056,12,2073,47561,81056,12,1688,6431,99521,0,128009],\"total_duration\":11788733079,\"load_duration\":48456628,\"prompt_eval_duration\":71869000,\"eval_count\":147,\"eval_duration\":11668035000}\n",
      "\n"
     ]
    }
   ],
   "source": [
    "import requests\n",
    "\n",
    "url = 'http://localhost:11434/api/generate/'\n",
    "headers = {'Content-type': 'application/json'}\n",
    "data = '{ \"model\": \"llama3\", \"prompt\": \"Was besteht aus Wasser?\" }'\n",
    "\n",
    "print(\"Making request\")\n",
    "\n",
    "response = requests.post(url, headers=headers, data=data)\n",
    "\n",
    "print(response.status_code)\n",
    "print(response.text)"
   ]
  },
  {
   "cell_type": "code",
   "execution_count": 1,
   "id": "99ee6574-afbf-410e-96e5-54365dcce868",
   "metadata": {},
   "outputs": [
    {
     "name": "stdout",
     "output_type": "stream",
     "text": [
      "hello\n"
     ]
    }
   ],
   "source": [
    "print(\"hello\")"
   ]
  },
  {
   "cell_type": "code",
   "execution_count": null,
   "id": "03616c68-7cf6-4897-bf50-6edf11350970",
   "metadata": {},
   "outputs": [],
   "source": []
  }
 ],
 "metadata": {
  "kernelspec": {
   "display_name": "Python 3 (ipykernel)",
   "language": "python",
   "name": "python3"
  },
  "language_info": {
   "codemirror_mode": {
    "name": "ipython",
    "version": 3
   },
   "file_extension": ".py",
   "mimetype": "text/x-python",
   "name": "python",
   "nbconvert_exporter": "python",
   "pygments_lexer": "ipython3",
   "version": "3.11.9"
  }
 },
 "nbformat": 4,
 "nbformat_minor": 5
}
