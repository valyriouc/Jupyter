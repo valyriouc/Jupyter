{
 "cells": [
  {
   "cell_type": "code",
   "execution_count": 2,
   "id": "85ca9301-c36a-4f11-9862-9f17a53b7c34",
   "metadata": {},
   "outputs": [],
   "source": [
    "import flask"
   ]
  },
  {
   "cell_type": "code",
   "execution_count": 5,
   "id": "5071329d-3371-4ca1-88fd-847d168fe1f5",
   "metadata": {},
   "outputs": [],
   "source": [
    "import langchain"
   ]
  },
  {
   "cell_type": "code",
   "execution_count": 7,
   "id": "665d04b0-c04b-401d-af75-f36807634d3a",
   "metadata": {},
   "outputs": [
    {
     "name": "stdout",
     "output_type": "stream",
     "text": [
      "Hello\n"
     ]
    }
   ],
   "source": [
    "print(\"Hello\")"
   ]
  },
  {
   "cell_type": "code",
   "execution_count": 8,
   "id": "8faee315-cec5-4077-b7d4-4ed76a0899d2",
   "metadata": {},
   "outputs": [],
   "source": [
    "import requests"
   ]
  },
  {
   "cell_type": "code",
   "execution_count": null,
   "id": "6ea2c582-f707-4f65-9678-3f070d7d7710",
   "metadata": {},
   "outputs": [],
   "source": [
    "import requests\n",
    "\n",
    "url = 'http://localhost:11434/api/generate/'\n",
    "headers = {'Content-type': 'application/json'}\n",
    "data = '{ \"model\": \"llama3\", \"prompt\": \"Was besteht aus Wasser?\" }'\n",
    "\n",
    "response = requests.post(url, headers=headers, data=data)\n",
    "\n",
    "print(response.status_code)\n"
   ]
  },
  {
   "cell_type": "code",
   "execution_count": null,
   "id": "92cbacad-a406-432f-98c2-4a753c8eca46",
   "metadata": {},
   "outputs": [],
   "source": [
    "import requests\n",
    "\n",
    "url = 'http://localhost:11434/api/generate/'\n",
    "headers = {'Content-type': 'application/json'}\n",
    "data = '{ \"model\": \"llama3\", \"prompt\": \"Was besteht aus Wasser?\" }'\n",
    "\n",
    "print(\"Making request\")\n",
    "\n",
    "response = requests.post(url, headers=headers, data=data)\n",
    "\n",
    "print(response.status_code)\n",
    "print(response.text)"
   ]
  },
  {
   "cell_type": "code",
   "execution_count": 1,
   "id": "99ee6574-afbf-410e-96e5-54365dcce868",
   "metadata": {},
   "outputs": [
    {
     "name": "stdout",
     "output_type": "stream",
     "text": [
      "hello\n"
     ]
    }
   ],
   "source": [
    "print(\"hello\")"
   ]
  },
  {
   "cell_type": "code",
   "execution_count": 2,
   "id": "03616c68-7cf6-4897-bf50-6edf11350970",
   "metadata": {},
   "outputs": [],
   "source": [
    "from langchain_community.llms import Ollama"
   ]
  },
  {
   "cell_type": "code",
   "execution_count": 3,
   "id": "e1e201cf-a523-4f6e-bcd9-1cb0ec7acf04",
   "metadata": {},
   "outputs": [],
   "source": [
    "llm = Ollama(\n",
    "    model=\"llama3\",\n",
    "    base_url=\"http://localhost:11434\",\n",
    "    verbose=True)"
   ]
  },
  {
   "cell_type": "code",
   "execution_count": 5,
   "id": "3ea93e38-0ea1-4f81-8f2c-79d4b4c6b4cb",
   "metadata": {},
   "outputs": [
    {
     "data": {
      "text/plain": [
       "\"A question that gets to the heart of mathematics!\\n\\nPI (π) is a mathematical constant that represents the ratio of a circle's circumference to its diameter. It's approximately equal to 3.14159, but it's an irrational number, which means it can't be expressed exactly as a finite decimal or fraction.\\n\\nIn other words, π is a mysterious constant that shows up in many mathematical formulas, particularly in geometry and trigonometry. Here are some examples:\\n\\n1. Circumference of a circle: C = 2 × π × r (where C is the circumference, π is the ratio, and r is the radius)\\n2. Area of a circle: A = π × r²\\n3. Volume of a sphere: V = (4/3) × π × r³\\n\\nπ has been calculated to over 31 trillion digits using advanced computer algorithms and mathematical techniques. Despite its seemingly simple value, π has many practical applications in fields like engineering, physics, and computer science.\\n\\nIn popular culture, π is often celebrated on March 14th (3/14), also known as Pi Day!\""
      ]
     },
     "execution_count": 5,
     "metadata": {},
     "output_type": "execute_result"
    }
   ],
   "source": [
    "llm.invoke(\"Was ist PI\")"
   ]
  },
  {
   "cell_type": "markdown",
   "id": "3caae4ec-5ab8-42b1-ae66-512930be2c70",
   "metadata": {},
   "source": [
    "![Langserve](https://miro.medium.com/v2/resize:fit:1000/1*4p3NVKe_HcxMz5PYju5NFw.png)"
   ]
  },
  {
   "cell_type": "code",
   "execution_count": 3,
   "id": "19dc38ce-b64e-49ee-8bf0-e32d9e63305c",
   "metadata": {},
   "outputs": [],
   "source": [
    "from langchain_community.llms import Ollama\n",
    "\n",
    "llm = Ollama(\n",
    "    model=\"llama3\",\n",
    "    base_url=\"http://localhost:11434\",\n",
    "    verbose=True,\n",
    "    num_gpu=2)"
   ]
  },
  {
   "cell_type": "code",
   "execution_count": 4,
   "id": "104d6b46-e2d9-4257-9602-e0c4263ce17d",
   "metadata": {},
   "outputs": [
    {
     "data": {
      "text/plain": [
       "'Grafikkarten, auch bekannt als Graphics Card oder GPU (Graphics Processing Unit), ist ein Computerchip, der speziell für die Bearbeitung von Grafiken und Bildsignalen entwickelt wurde. Sie dient der Ausgabe von Grafiken auf einem Bildschirm und übernimmt verschiedene Aufgaben in Bezug auf die Darstellung von Bilder, Videos und anderen visuellen Inhalten.\\n\\nDie Hauptaufgaben einer Grafikkarte sind:\\n\\n1. **Bildbearbeitung**: Die Grafikkarte berechnet und verarbeitet Pixelwerte, um Bilder zu erstellen, zu skalieren oder zu transformieren.\\n2. **Bildausgabe**: Sie sendet die berechneten Bildinformationen an den Monitor, um das Bild auf dem Schirm darzustellen.\\n3. **Fremdabruf**: Grafikkarten können Fremdausgaben von anderen Computern empfangen und diese auf dem eigenen System anzeigen.\\n4. **Raytracing** und **Physikbasierte Rendering**: Moderne Grafikkarten unterstützen Raytracing (Computergezeichnete Bilder) und Physikbasierte Rendering, um realistische 3D-Modelle und Lichteffekte zu erzeugen.\\n\\nGrafikkarten kommen in verschiedenen Formaten vor:\\n\\n1. **Integrated Graphics** (Integriert): Die Grafikkarte ist integriert in den Prozessor oder auf der Hauptplatine eines Computers.\\n2. **Discrete Graphics** (Diskret): Die Grafikkarte ist eine separate Einheit, die separat von anderen Bauteilen des Computers installiert werden kann.\\n\\nDie Leistung einer Grafikkarte wird durch ihre Speicherkapazität, Rechenleistung und clock-Geschwindigkeit bestimmt. Moderne Grafikkarten sind in der Regel mit speziellen Funktionen wie DirectX, OpenGL oder Vulkan ausgestattet, um die Ausführung von Grafik- und Spiel-Anwendungen zu unterstützen.\\n\\nInsgesamt spielen Grafikkarten eine wichtige Rolle bei der Erstellung visueller Inhalte auf Computerbildschirmen. Sie ermöglichen es, komplexe Grafiken und Animationen zu erstellen, Spiele zu spielen und medieninhalte wie Videos und Bilder darzustellen.'"
      ]
     },
     "execution_count": 4,
     "metadata": {},
     "output_type": "execute_result"
    }
   ],
   "source": [
    "llm.invoke(\"Was sind Grafikkarten\")"
   ]
  },
  {
   "cell_type": "markdown",
   "id": "6b0cd4bf-f8da-4ece-ab40-384a30a8c236",
   "metadata": {},
   "source": [
    "https://medium.com/@abonia/ollama-and-langchain-run-llms-locally-900931914a46\n",
    "\n",
    "# Ollama and LangChain: Run LLMs locally\n",
    "\n",
    "## Run open-source LLM, such as Llama 2,mistral locally\n",
    "\n",
    "!https://miro.medium.com/v2/resize:fill:88:88/1*k43lGptajdXzsxdAzwFScw.jpeg\n",
    "\n",
    "[Abonia Sojasingarayar](https://medium.com/@abonia?source=post_page-----900931914a46--------------------------------)\n",
    "\n",
    "·\n",
    "\n",
    "[Follow](https://medium.com/m/signin?actionUrl=https%3A%2F%2Fmedium.com%2F_%2Fsubscribe%2Fuser%2F7db83c982d73&operation=register&redirect=https%3A%2F%2Fmedium.com%2F%40abonia%2Follama-and-langchain-run-llms-locally-900931914a46&user=Abonia+Sojasingarayar&userId=7db83c982d73&source=post_page-7db83c982d73----900931914a46---------------------post_header-----------)\n",
    "\n",
    "4 min read\n",
    "\n",
    "·\n",
    "\n",
    "Feb 29, 2024\n",
    "\n",
    "Ollma+Langchain — Demo\n",
    "\n",
    "# Introduction\n",
    "\n",
    "In the realm of Large Language Models (LLMs), Ollama and LangChain emerge as powerful tools for developers and researchers. Ollama provides a seamless way to run open-source LLMs locally, while LangChain offers a flexible framework for integrating these models into applications. This article will guide you through the process of setting up and utilizing Ollama and LangChain, enabling you to harness the power of LLMs for your projects.\n",
    "\n",
    "https://miro.medium.com/v2/resize:fit:700/0*9z-48u6A1EPG32Fq\n",
    "\n",
    "# 1. Setting Up Ollama\n",
    "\n",
    "## Installation and Configuration\n",
    "\n",
    "To start using Ollama, you first need to install it on your system. For macOS users, Homebrew simplifies this process:\n",
    "\n",
    "```\n",
    "brew install ollama\n",
    "brew services start ollama\n",
    "```\n",
    "\n",
    "After installation, Ollama listens on port 11434 for incoming requests. You can verify its operation by navigating to `[http://localhost:11434/`](http://localhost:11434/%60) in your browser. The next step involves selecting the LLM you wish to run locally. For instance, to run the `llama2`, `mistral` etc model, execute:\n",
    "\n",
    "```\n",
    "ollama pull mistral\n",
    "```\n",
    "\n",
    "This command downloads the model, optimizing setup and configuration details, including GPU usage.\n",
    "\n",
    "Also you can download and install ollama from [official site](https://ollama.com/download/linux).\n",
    "\n",
    "# 2. Running Models\n",
    "\n",
    "To interact with your locally hosted LLM, you can use the command line directly or via an API. For command-line interaction, Ollama provides the `ollama run <name-of-model>` command. Alternatively, you can send a JSON request to the API endpoint of Ollama:\n",
    "\n",
    "```\n",
    "curl http://localhost:11434/api/generate -d '{\n",
    " \"model\": \"llama2\",\n",
    " \"prompt\":\"Why is the sky blue?\"\n",
    "}'\n",
    "```\n",
    "\n",
    "This flexibility allows you to integrate LLMs into various applications seamlessly.\n",
    "\n",
    "# 3. Integrating Ollama with LangChain\n",
    "\n",
    "LangChain is a framework designed to facilitate the integration of LLMs into applications. It supports a wide range of chat models, including Ollama, and provides an expressive language for chaining operations. To get started, you’ll need to install LangChain and its dependencies.\n",
    "\n",
    "> Official Documenation\n",
    "> \n",
    "\n",
    "## [Ollama | 🦜️🔗 Langchain](https://python.langchain.com/docs/integrations/llms/ollama?source=post_page-----900931914a46--------------------------------)\n",
    "\n",
    "### [Ollama allows you to run open-source large](https://python.langchain.com/docs/integrations/llms/ollama?source=post_page-----900931914a46--------------------------------)\n",
    "\n",
    "[python.langchain.com](https://python.langchain.com/docs/integrations/llms/ollama?source=post_page-----900931914a46--------------------------------)\n",
    "\n",
    "## Using Ollama in LangChain\n",
    "\n",
    "To use Ollama within a LangChain application, you first import the necessary modules from the `langchain_community.llms` package:\n",
    "\n",
    "```\n",
    "from langchain_community.llms import Ollama\n",
    "```\n",
    "\n",
    "Then, initialize an instance of the Ollama model:\n",
    "\n",
    "```\n",
    "llm = Ollama(model=\"llama2\")\n",
    "```\n",
    "\n",
    "You can now invoke the model to generate responses. For example:\n",
    "\n",
    "```\n",
    "llm.invoke(\"Tell me a joke\")\n",
    "```\n",
    "\n",
    "This code snippet demonstrates how to use Ollama to generate a response to a given prompt.\n",
    "\n",
    "## Advanced Usage\n",
    "\n",
    "```\n",
    "from langchain_community.llms import Ollama\n",
    "\n",
    "llm = Ollama(model=\"mistral\")\n",
    "llm(\"The first man on the summit of Mount Everest, the highest peak on Earth, was ...\")\n",
    "```\n",
    "\n",
    "LangChain also supports more complex operations, such as streaming responses and using prompt templates. For instance, you can stream responses from the model as follows:\n",
    "\n",
    "```\n",
    "from langchain.callbacks.manager import CallbackManager\n",
    "from langchain.callbacks.streaming_stdout import StreamingStdOutCallbackHandler\n",
    "\n",
    "llm = Ollama(\n",
    "    model=\"mistral\", callback_manager=CallbackManager([StreamingStdOutCallbackHandler()])\n",
    ")\n",
    "llm(\"The first man on the summit of Mount Everest, the highest peak on Earth, was ...\")\n",
    "```\n",
    "\n",
    "This approach is particularly useful for applications requiring real-time interaction with LLMs.\n",
    "\n",
    "# 4. Deploying with LangServe\n",
    "\n",
    "For production environments, LangChain offers LangServe, a deployment tool that simplifies the process of running your application. You can use LangServe to deploy your LangChain application.\n",
    "\n",
    "[**LangServe](https://github.com/langchain-ai/langserve) is an open-source library of LangChain** that makes your process for creating API servers based on your chains easier. LangServe provides remote APIs for core LangChain Expression Language methods such as invoke, batch, and stream.\n",
    "\n",
    "```\n",
    "from typing import List\n",
    "from fastapi import FastAPI\n",
    "from langchain.llms import Ollama\n",
    "from langchain.output_parsers import CommaSeparatedListOutputParser\n",
    "from langchain.prompts import PromptTemplate\n",
    "from langserve import add_routes\n",
    "import uvicorn\n",
    "\n",
    "llama2 = Ollama(model=\"mistral\")\n",
    "template = PromptTemplate.from_template(\"Tell me a joke about {topic}.\")\n",
    "chain = template | llama2 | CommaSeparatedListOutputParser()\n",
    "\n",
    "app = FastAPI(title=\"LangChain\", version=\"1.0\", description=\"The first server ever!\")\n",
    "add_routes(app, chain, path=\"/chain\")\n",
    "\n",
    "if __name__ == \"__main__\":\n",
    "    uvicorn.run(app, host=\"localhost\", port=8000)\n",
    "```\n",
    "\n",
    "Run the below code to start your lagserve and head on to\n",
    "\n",
    "> http://localhost:9001/chain/playground/\n",
    "> \n",
    "\n",
    "to access your playground for to generate the joke on particular topic.Its your turn now to test with your custom prompt.\n",
    "\n",
    "Launch LangServe\n",
    "\n",
    "![](https://miro.medium.com/v2/resize:fit:1000/1*4p3NVKe_HcxMz5PYju5NFw.png)\n",
    "\n",
    "Demo-Playground\n",
    "\n",
    "![](https://miro.medium.com/v2/resize:fit:700/1*OI0fNaHwBaGbv0jlngxE2g.png)\n",
    "\n",
    "# Conclusion\n",
    "\n",
    "By integrating Ollama with LangChain, developers can leverage the capabilities of LLMs without the need for external APIs. This setup not only saves costs but also allows for greater flexibility and customization. Whether you’re building a chatbot, a content generation tool, or an interactive application, Ollama and LangChain provide the tools necessary to bring LLMs to life.\n",
    "\n",
    "> Connect with me on Linkedin\n",
    "> \n",
    "> \n",
    "> ***Find me on [Github](https://github.com/Abonia1)***\n",
    "> \n",
    "> **Visit my technical channel on** [**Youtube**](https://www.youtube.com/channel/UCGphGM_oeR4r9dqVs71Jc5w)\n",
    "> \n",
    "\n",
    "> Thanks for Reading!\n",
    ">\n",
    "> "
   ]
  },
  {
   "cell_type": "code",
   "execution_count": 4,
   "id": "3e2dc5fb-8d4a-4dc5-a56c-4ba85dc252ba",
   "metadata": {},
   "outputs": [
    {
     "name": "stdout",
     "output_type": "stream",
     "text": [
      "According to historical records, Tenzing Norgay, a Nepali Sherpa mountaineer, and Sir Edmund Hillary, a New Zealand mountaineer and explorer, were the first people to reach the summit of Mount Everest, which is located in the Himalayas between Nepal and Tibet. They achieved this remarkable feat on May 29, 1953.\n",
      "\n",
      "Their successful ascent was part of a British expedition led by John Hunt, and it marked a significant milestone in mountaineering history. Tenzing Norgay and Sir Edmund Hillary's achievement has been celebrated as a triumph of human determination, teamwork, and perseverance."
     ]
    }
   ],
   "source": [
    "from langchain_community.llms import ollama\n",
    "from langchain.callbacks.manager import CallbackManager\n",
    "from langchain.callbacks.streaming_stdout import StreamingStdOutCallbackHandler\n",
    "\n",
    "llm = ollama.Ollama(\n",
    "    model=\"llama3\",\n",
    "    callback_manager=CallbackManager([StreamingStdOutCallbackHandler()])\n",
    ")\n",
    "output = llm.invoke(\"The first man on the summit of Mount Everest, the highest peak on Earth, was ...\")"
   ]
  },
  {
   "cell_type": "code",
   "execution_count": 8,
   "id": "2046c97c-fc46-41cd-a630-a5b05c2addf2",
   "metadata": {},
   "outputs": [
    {
     "name": "stdout",
     "output_type": "stream",
     "text": [
      " for better readability.\")\n",
      "\n",
      "    try:\n",
      "        # Convert text to HTML\n",
      "        soup = BeautifulSoup(content, 'html.parser')\n",
      "        content_html = str(soup)\n",
      "\n",
      "        # Find the first heading and extract its text\n",
      "        headings = soup.find_all(['h1', 'h2', 'h3', 'h4', 'h5'])\n",
      "        main_heading_text = [heading.text.strip() for heading in headings if heading.text][0]\n",
      "\n",
      "        # Extract important information from the content using NLP techniques\n",
      "        # For demonstration purposes, we'll use simple text manipulation\n",
      "        important_info = []\n",
      "\n",
      "        paragraphs = soup.find_all(['p', 'li'])\n",
      "        for paragraph in paragraphs:\n",
      "            text = paragraph.get_text().strip()\n",
      "            if text and any(word.lower() in text.lower() for word in ['important', 'key', 'main']):\n",
      "                important_info.append(text)\n",
      "\n",
      "        # Create a markdown list from the extracted information\n",
      "        md_list = '\\n'.join(['* ' + item.strip() for item in important_info])\n",
      "\n",
      "        return f'**{main_heading_text}**\\n\\n{md_list}'\n",
      "    except Exception as e:\n",
      "        logging.error(f\"Error processing content: {str(e)}\")\n",
      "        return f\"Failed to extract important information. Original content:\\n\\n{content}\"\n",
      "```\n",
      "This function takes in a string `content` and attempts to extract the main heading text and important information from it. It uses BeautifulSoup to parse the HTML, then extracts the first heading and its text using simple text manipulation. The function also finds all paragraphs (`p`, `li`) and checks if any of them contain keywords like \"important\", \"key\", or \"main\". If they do, it extracts that text as important information.\n",
      "\n",
      "The function then creates a markdown list from the extracted information and returns it along with the main heading text in bold. If there's an error during processing, it logs the error and returns the original content with a failure message."
     ]
    }
   ],
   "source": [
    "from langchain_community.llms import ollama\n",
    "from langchain.callbacks.manager import CallbackManager\n",
    "from langchain.callbacks.streaming_stdout import StreamingStdOutCallbackHandler\n",
    "\n",
    "llm = ollama.Ollama(\n",
    "    model=\"llama3\",\n",
    "    callback_manager=CallbackManager([StreamingStdOutCallbackHandler()]),\n",
    "    template=\"Most important information from {content} should be represented as markdown list\"\n",
    ")\n",
    "output = llm.invoke(\"The first man on the summit of Mount Everest, the highest peak on Earth, was ...\")"
   ]
  },
  {
   "cell_type": "code",
   "execution_count": 9,
   "id": "5aa58fa0-1408-429d-9567-f18497fabd0a",
   "metadata": {},
   "outputs": [],
   "source": [
    "from langchain.prompts import PromptTemplate\n",
    "\n",
    "prompt = PromptTemplate.from_template(\"Tell me a joke about {topic}\")"
   ]
  },
  {
   "cell_type": "code",
   "execution_count": 2,
   "id": "07e60f70-31d3-4652-beb2-d581e4e04a26",
   "metadata": {},
   "outputs": [
    {
     "data": {
      "text/plain": [
       "[]"
      ]
     },
     "execution_count": 2,
     "metadata": {},
     "output_type": "execute_result"
    }
   ],
   "source": [
    "from langchain_community.llms import ollama \n",
    "from langchain import prompts\n",
    "import langchain.output_parsers as op\n",
    "\n",
    "llm = ollama.Ollama(model=\"llama3\")\n",
    "prompt = prompts.PromptTemplate.from_template(\"Tell me a joke about {topic}\")\n",
    "chain = prompt | llm | op.MarkdownListOutputParser()\n",
    "\n",
    "chain.invoke([\"Tell a dad joke\", \"Tell a german joke\"])"
   ]
  },
  {
   "cell_type": "code",
   "execution_count": 6,
   "id": "602d409b-2e32-4669-a722-f1ad16dc1e0f",
   "metadata": {},
   "outputs": [
    {
     "data": {
      "text/plain": [
       "PromptTemplate(input_variables=[], template='Hell')"
      ]
     },
     "execution_count": 6,
     "metadata": {},
     "output_type": "execute_result"
    }
   ],
   "source": [
    "from langchain_community.llms import ollama \n",
    "from langchain import prompts \n",
    "import langchain.output_parsers as op\n",
    "\n",
    "prompts.PromptTemplate.from_template(\"Hell\")"
   ]
  },
  {
   "cell_type": "code",
   "execution_count": null,
   "id": "b9d0d984-41fc-44ac-81ef-e7201d5d94b4",
   "metadata": {},
   "outputs": [],
   "source": []
  }
 ],
 "metadata": {
  "kernelspec": {
   "display_name": "Python 3 (ipykernel)",
   "language": "python",
   "name": "python3"
  },
  "language_info": {
   "codemirror_mode": {
    "name": "ipython",
    "version": 3
   },
   "file_extension": ".py",
   "mimetype": "text/x-python",
   "name": "python",
   "nbconvert_exporter": "python",
   "pygments_lexer": "ipython3",
   "version": "3.12.2"
  }
 },
 "nbformat": 4,
 "nbformat_minor": 5
}
