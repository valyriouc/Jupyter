{
 "cells": [
  {
   "cell_type": "code",
   "execution_count": 2,
   "id": "85ca9301-c36a-4f11-9862-9f17a53b7c34",
   "metadata": {},
   "outputs": [],
   "source": [
    "import flask"
   ]
  },
  {
   "cell_type": "code",
   "execution_count": 5,
   "id": "5071329d-3371-4ca1-88fd-847d168fe1f5",
   "metadata": {},
   "outputs": [],
   "source": [
    "import langchain"
   ]
  },
  {
   "cell_type": "code",
   "execution_count": 7,
   "id": "665d04b0-c04b-401d-af75-f36807634d3a",
   "metadata": {},
   "outputs": [
    {
     "name": "stdout",
     "output_type": "stream",
     "text": [
      "Hello\n"
     ]
    }
   ],
   "source": [
    "print(\"Hello\")"
   ]
  },
  {
   "cell_type": "code",
   "execution_count": 8,
   "id": "8faee315-cec5-4077-b7d4-4ed76a0899d2",
   "metadata": {},
   "outputs": [],
   "source": [
    "import requests"
   ]
  },
  {
   "cell_type": "code",
   "execution_count": null,
   "id": "6ea2c582-f707-4f65-9678-3f070d7d7710",
   "metadata": {},
   "outputs": [],
   "source": [
    "import requests\n",
    "\n",
    "url = 'http://localhost:11434/api/generate/'\n",
    "headers = {'Content-type': 'application/json'}\n",
    "data = '{ \"model\": \"llama3\", \"prompt\": \"Was besteht aus Wasser?\" }'\n",
    "\n",
    "response = requests.post(url, headers=headers, data=data)\n",
    "\n",
    "print(response.status_code)\n"
   ]
  },
  {
   "cell_type": "code",
   "execution_count": null,
   "id": "92cbacad-a406-432f-98c2-4a753c8eca46",
   "metadata": {},
   "outputs": [],
   "source": [
    "import requests\n",
    "\n",
    "url = 'http://localhost:11434/api/generate/'\n",
    "headers = {'Content-type': 'application/json'}\n",
    "data = '{ \"model\": \"llama3\", \"prompt\": \"Was besteht aus Wasser?\" }'\n",
    "\n",
    "print(\"Making request\")\n",
    "\n",
    "response = requests.post(url, headers=headers, data=data)\n",
    "\n",
    "print(response.status_code)\n",
    "print(response.text)"
   ]
  },
  {
   "cell_type": "code",
   "execution_count": 1,
   "id": "99ee6574-afbf-410e-96e5-54365dcce868",
   "metadata": {},
   "outputs": [
    {
     "name": "stdout",
     "output_type": "stream",
     "text": [
      "hello\n"
     ]
    }
   ],
   "source": [
    "print(\"hello\")"
   ]
  },
  {
   "cell_type": "code",
   "execution_count": 2,
   "id": "03616c68-7cf6-4897-bf50-6edf11350970",
   "metadata": {},
   "outputs": [],
   "source": [
    "from langchain_community.llms import Ollama"
   ]
  },
  {
   "cell_type": "code",
   "execution_count": 4,
   "id": "e1e201cf-a523-4f6e-bcd9-1cb0ec7acf04",
   "metadata": {},
   "outputs": [],
   "source": [
    "llm = Ollama(\n",
    "    model=\"llama3\",\n",
    "    base_url=\"http://localhost:11434\",\n",
    "    verbose=True)"
   ]
  },
  {
   "cell_type": "code",
   "execution_count": 5,
   "id": "3ea93e38-0ea1-4f81-8f2c-79d4b4c6b4cb",
   "metadata": {},
   "outputs": [
    {
     "data": {
      "text/plain": [
       "'A classic question!\\n\\nPI, short for \"Greek letter π\" (pi), is a mathematical constant representing the ratio of a circle\\'s circumference to its diameter. It\\'s approximately equal to 3.14159 (but goes on forever without repeating!).\\n\\nIn other words, if you draw a circle and measure around it with a ruler, the distance from one point on the circle to another will be π times the distance across the circle, measured along its diameter.\\n\\nPI is an irrational number, which means it can\\'t be expressed as a finite decimal or fraction. It\\'s also a transcendental number, meaning it\\'s not the root of any polynomial equation with integer coefficients.\\n\\nPI has many important applications in mathematics, science, and engineering, such as:\\n\\n1. Geometry: Calculating areas and circumferences of circles, spheres, and other curved shapes.\\n2. Trigonometry: Solving triangular problems involving right triangles with circular arcs.\\n3. Calculus: Integrals and derivatives involving PI appear in many mathematical formulas.\\n4. Engineering: Designing curves for bridges, pipes, and other structures; calculating stress, strain, and thermal expansion.\\n\\nSo, that\\'s a brief introduction to the fascinating world of π!'"
      ]
     },
     "execution_count": 5,
     "metadata": {},
     "output_type": "execute_result"
    }
   ],
   "source": [
    "llm.invoke(\"Was ist PI\")"
   ]
  },
  {
   "cell_type": "markdown",
   "id": "3caae4ec-5ab8-42b1-ae66-512930be2c70",
   "metadata": {},
   "source": [
    "![Langserve](https://miro.medium.com/v2/resize:fit:1000/1*4p3NVKe_HcxMz5PYju5NFw.png)"
   ]
  },
  {
   "cell_type": "code",
   "execution_count": 7,
   "id": "19dc38ce-b64e-49ee-8bf0-e32d9e63305c",
   "metadata": {},
   "outputs": [],
   "source": [
    "llm = Ollama(\n",
    "    model=\"llama3\",\n",
    "    base_url=\"http://localhost:11434\",\n",
    "    verbose=True,\n",
    "    num_gpu=1)"
   ]
  },
  {
   "cell_type": "code",
   "execution_count": 8,
   "id": "104d6b46-e2d9-4257-9602-e0c4263ce17d",
   "metadata": {},
   "outputs": [
    {
     "data": {
      "text/plain": [
       "'Grafikkarten, also known as graphics cards or GPUs (Graphics Processing Units), are specialized electronic circuits designed to quickly manipulate and alter memory to accelerate the creation of images by a computer.\\n\\nTheir primary function is to render images on a computer screen by performing complex mathematical calculations to transform 3D models into 2D images. Grafikkarten contain a large number of transistors, which allow them to perform a vast number of calculations simultaneously, making them much faster than the central processing unit (CPU) for tasks that involve rendering graphics.\\n\\nGrafikkarten are used in various applications such as:\\n\\n1. **Computer games**: To render fast-paced and detailed game scenes.\\n2. **3D modeling and animation**: For creating realistic 3D models and animations.\\n3. **Scientific simulations**: To accelerate complex calculations, such as weather forecasting or fluid dynamics simulations.\\n4. **Data analysis and visualization**: For rendering large datasets into interactive visualizations.\\n\\nA Grafikkarte typically consists of:\\n\\n1. **Processing Units** (cores): These perform the actual mathematical calculations to render images.\\n2. **Memory**: The amount of memory (VRAM) available to store image data temporarily during processing.\\n3. **Interface**: Connects the Grafikkarte to the motherboard and CPU.\\n\\nThere are different types of Grafikkarten, including:\\n\\n1. **Integrated Graphics**: Built into the CPU or motherboard, these provide basic graphics capabilities.\\n2. **Dedicated Graphics** (discrete): Separate cards with more powerful processing capabilities.\\n3. **Hybrid Graphics**: Combining integrated and dedicated graphics for improved performance.\\n\\nIn summary, Grafikkarten are specialized electronic circuits designed to accelerate the rendering of images on a computer screen by performing complex mathematical calculations.'"
      ]
     },
     "execution_count": 8,
     "metadata": {},
     "output_type": "execute_result"
    }
   ],
   "source": [
    "llm.invoke(\"Was sind Grafikkarten\")"
   ]
  },
  {
   "cell_type": "code",
   "execution_count": null,
   "id": "26ab82fa-75f3-4e4d-964f-d0ab2e9f6b43",
   "metadata": {},
   "outputs": [],
   "source": []
  }
 ],
 "metadata": {
  "kernelspec": {
   "display_name": "Python 3 (ipykernel)",
   "language": "python",
   "name": "python3"
  },
  "language_info": {
   "codemirror_mode": {
    "name": "ipython",
    "version": 3
   },
   "file_extension": ".py",
   "mimetype": "text/x-python",
   "name": "python",
   "nbconvert_exporter": "python",
   "pygments_lexer": "ipython3",
   "version": "3.11.9"
  }
 },
 "nbformat": 4,
 "nbformat_minor": 5
}
